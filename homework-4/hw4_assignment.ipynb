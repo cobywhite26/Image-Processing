{
 "cells": [
  {
   "cell_type": "markdown",
   "id": "b1435216",
   "metadata": {},
   "source": [
    "## HW4 Image Filtering: Difference of Gaussians\n",
    "\n",
    "The Laplacian of Gaussian (LoG) kernel can be approximated by a scaled Difference of Gaussians (DoG) kernel, cf. [B&B Book 3, Sec 7.1.1]. That is,\n",
    "\n",
    "\\begin{equation}\n",
    "L_\\sigma(x,y) \\approx \\frac{2k^2}{\\sigma^2 (k^2-1)} ~( G_{k\\sigma}(x,y) - G_{\\sigma}(x,y) ),\n",
    "\\qquad\n",
    "G_{\\sigma} = \\frac{1}{2\\pi\\sigma^2} e^{-(x^2+y^2)(2\\sigma^2)}\n",
    "\\end{equation}\n",
    "\n",
    "ECE472: Implement an LoG kernel using skimage.filters.gaussian() and skimage.filters.laplace(). Apply to F35.gif for sigma=1.0. Repeat for the DoG kernel skimage.filters.difference_of_gaussians(). Determine determine sigma values for the Dog kernel that approximate the appearance of LoG filtering.\n",
    "\n",
    "ECE572: Complete the ECE472 assignment only implement your own DoG kernel using the above formulae."
   ]
  },
  {
   "cell_type": "code",
   "execution_count": null,
   "id": "4aa59009",
   "metadata": {},
   "outputs": [],
   "source": [
    "%matplotlib\n",
    "# Load packages needed inline"
   ]
  },
  {
   "cell_type": "code",
   "execution_count": null,
   "id": "1945f0f4",
   "metadata": {},
   "outputs": [],
   "source": [
    "def print_imginfo(I):\n",
    "    # Copy from HW3"
   ]
  },
  {
   "cell_type": "code",
   "execution_count": null,
   "id": "17516620",
   "metadata": {},
   "outputs": [],
   "source": [
    "def show_imghist(I, vmin=0.0, vmax=1.0):\n",
    "    # Copy from HW3"
   ]
  },
  {
   "cell_type": "code",
   "execution_count": null,
   "id": "46a8cb1f",
   "metadata": {
    "scrolled": true
   },
   "outputs": [],
   "source": [
    "# Read F35.gif image, convert to float32\n",
    "# Run print_imginfo() and show_imghist()"
   ]
  },
  {
   "cell_type": "markdown",
   "id": "82368cca",
   "metadata": {},
   "source": [
    "## ECE472 Students: SKImage DoG Kernel"
   ]
  },
  {
   "cell_type": "code",
   "execution_count": null,
   "id": "fa94a45d",
   "metadata": {
    "scrolled": false
   },
   "outputs": [],
   "source": [
    "# Apply LoG filter using skimage.filters.gaussian() and skimage.filters.laplace()\n",
    "# Apply DoG filter using skimage.filters.difference_of_gaussians()\n",
    "# Show images and histograms using appropriate vmin, vmax ranges\n",
    "\n",
    "# EXTRA: For fun, try larger sigma values. Can you make interesting observations?"
   ]
  },
  {
   "cell_type": "markdown",
   "id": "4b448598",
   "metadata": {},
   "source": [
    "## ECE572 Students:  Homebrew DoG Kernel"
   ]
  },
  {
   "cell_type": "code",
   "execution_count": null,
   "id": "e0c4ccae",
   "metadata": {},
   "outputs": [],
   "source": [
    "# Apply LoG filter using skimage.filters.gaussian() and skimage.filters.laplace()\n",
    "# Implement and apply DoG filter based on above equations\n",
    "# Show images and histograms using appropriate vmin, vmax ranges\n",
    "\n",
    "# EXTRA: For fun, try larger sigma values. Can you make interesting observations?"
   ]
  }
 ],
 "metadata": {
  "kernelspec": {
   "display_name": "Python 3 (ipykernel)",
   "language": "python",
   "name": "python3"
  },
  "language_info": {
   "codemirror_mode": {
    "name": "ipython",
    "version": 3
   },
   "file_extension": ".py",
   "mimetype": "text/x-python",
   "name": "python",
   "nbconvert_exporter": "python",
   "pygments_lexer": "ipython3",
   "version": "3.9.15"
  },
  "title": "ECE 472/572 HW2 (Dr. Gregor)"
 },
 "nbformat": 4,
 "nbformat_minor": 5
}
