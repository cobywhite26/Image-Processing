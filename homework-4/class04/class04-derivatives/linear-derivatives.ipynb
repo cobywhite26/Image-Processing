{
 "cells": [
  {
   "cell_type": "markdown",
   "id": "419560c8",
   "metadata": {},
   "source": [
    "# Image Filtering: Spatial Methods"
   ]
  },
  {
   "cell_type": "code",
   "execution_count": null,
   "id": "4aa59009",
   "metadata": {},
   "outputs": [],
   "source": [
    "%matplotlib inline\n",
    "\n",
    "import numpy as np\n",
    "\n",
    "import matplotlib.image as img\n",
    "import matplotlib.pyplot as plt\n",
    "\n",
    "from skimage import io\n",
    "from skimage import exposure\n",
    "from skimage import filters as flt\n",
    "from skimage.util import img_as_float32 as img_as_float\n",
    "\n",
    "from scipy import signal\n",
    "from scipy.ndimage import convolve"
   ]
  },
  {
   "cell_type": "code",
   "execution_count": null,
   "id": "1945f0f4",
   "metadata": {},
   "outputs": [],
   "source": [
    "def print_imginfo(I):\n",
    "    print(type(I))\n",
    "    print(I.shape, I.dtype)\n",
    "    print('Data range:', np.min(I), 'to', np.max(I))"
   ]
  },
  {
   "cell_type": "code",
   "execution_count": null,
   "id": "fccd02a7",
   "metadata": {},
   "outputs": [],
   "source": [
    "def show_imghist(I, vmin=0.0, vmax=1.0):\n",
    "    fig, ax = plt.subplots(1, 2, figsize=(10,3))\n",
    "    \n",
    "    ax[0].imshow(I, cmap='gray', vmin=vmin, vmax=vmax)\n",
    "    ax[0].set_axis_off()\n",
    "    \n",
    "    ax[1].hist(I.ravel(), lw=0, bins=256, range=(vmin+0.01,vmax-0.01));\n",
    "    ax[1].set_xlim(vmin, vmax)\n",
    "    ax[1].set_yticks([])"
   ]
  },
  {
   "cell_type": "code",
   "execution_count": null,
   "id": "46a8cb1f",
   "metadata": {
    "scrolled": true
   },
   "outputs": [],
   "source": [
    "I1 = io.imread(\"../../images/parrot.png\", as_gray=True)\n",
    "#I1 = io.imread(\"../../images/cars.jpg\", as_gray=True)\n",
    "#I1 = io.imread(\"../../images/coins.png\", as_gray=True)\n",
    "I1 = img_as_float(I1)\n",
    "\n",
    "print_imginfo(I1)\n",
    "show_imghist(I1)"
   ]
  },
  {
   "cell_type": "markdown",
   "id": "9c71a0c8",
   "metadata": {},
   "source": [
    "## Linear Filter: Derivative Kernels"
   ]
  },
  {
   "cell_type": "markdown",
   "id": "ff64bdc4",
   "metadata": {},
   "source": [
    "Many derivative kernels are formed as the product of a smoothing kernel and a differentiation kernel. Both can often  be expressed as the convolution of two smaller kernels. As an example, consider the Sobel operator. Because convolution flips the kernels prior to use, the order of postive vs negative coeffcients is the opposite of what you might expect.\n",
    "\n",
    "\\begin{equation}\n",
    "h_x = \\begin{bmatrix} +1 & 0 & -1 \\\\ +2 & 0 & -2 \\\\ +1 & 0 & -1 \\end{bmatrix}\n",
    "    = \\begin{bmatrix} 1 \\\\ 2 \\\\ 1 \\end{bmatrix}  \\begin{bmatrix} 1 & 0 & -1 \\end{bmatrix}\n",
    "    = \\begin{bmatrix} 1 \\\\ 1 \\end{bmatrix} * \\begin{bmatrix} 1 \\\\ 1 \\end{bmatrix}\n",
    "      \\begin{bmatrix} 1 & -1 \\end{bmatrix} * \\begin{bmatrix} 1 & 1 \\end{bmatrix}\n",
    "\\end{equation}\n",
    "\n",
    "\n",
    "\\begin{equation}\n",
    "h_y = \\begin{bmatrix} +1 & +2 & +1 \\\\ 0 & 0 & 0 \\\\ -1 & -2 & -1 \\end{bmatrix}\n",
    "    = \\begin{bmatrix} 1 \\\\ 0 \\\\ -1 \\end{bmatrix}  \\begin{bmatrix} 1 & 2 & 1 \\end{bmatrix}\n",
    "    = \\begin{bmatrix} 1 \\\\ 1 \\end{bmatrix} * \\begin{bmatrix} 1 \\\\ -1 \\end{bmatrix}\n",
    "      \\begin{bmatrix} 1 & 1 \\end{bmatrix} * \\begin{bmatrix} 1 & 1 \\end{bmatrix}\n",
    "\\end{equation}\n",
    "\n",
    "The kernels can be implemented as\n",
    "`h1=np.array([...]), h2=np.array([...]), h=scipy.signal.convolve(h1, h2, mode='full')`\n",
    "\n",
    "Python supports complex numbers: `C=R+Ij`. By letting $h_x$ and $h_y$ be the real and imaginary parts of a complex derivative kernel, convolution produces a complex image that holds all the information needed to determine the gradient magnitudes and angles. See details below."
   ]
  },
  {
   "cell_type": "code",
   "execution_count": null,
   "id": "e0c4ccae",
   "metadata": {},
   "outputs": [],
   "source": [
    "# Center pixel weighted more heavily when smoothing\n",
    "def sobel_kernel():\n",
    "    h = np.array([ [1+1j,0+2j,-1+1j], [2+0j,0+0j,-2+0j], [1-1j,0-2j,-1-1j] ])\n",
    "    return h\n",
    "\n",
    "# All pixels weighted the same when smoothing\n",
    "def prewitt_kernel():\n",
    "    h = np.array([ [1+1j,0+1j,-1+1j], [1+0j,0+0j,-1+0j], [1-1j,0-1j,-1-1j] ])\n",
    "    return h\n",
    "\n",
    "# Add horizontal and vertical central differences to pixel value (gives illusion of depth)\n",
    "def emboss_kernel():\n",
    "    h = np.array([ [2,1,0], [1,1,-1], [0,-1,-2]])\n",
    "    return h\n",
    "\n",
    "# Second order derivative (aka negative Laplacian)\n",
    "def laplacian_kernel():\n",
    "    h = np.array([ [0,-1,0], [-1,4,-1], [0,-1,0] ])\n",
    "    return h\n",
    "\n",
    "# Second order derivative w/Gaussian smoothing\n",
    "def mexicanhat_kernel(sigma=1.0, truncate=3.0):\n",
    "    N = np.int32(np.round(truncate*sigma))\n",
    "    \n",
    "    x = np.arange(-N, N+1)\n",
    "    y = np.arange(-N, N+1)\n",
    "    xv, yv = np.meshgrid(x, y)\n",
    "    \n",
    "    h = np.exp(-0.5*(xv**2+yv**2)/(sigma**2))\n",
    "    h *= 1/(np.pi*sigma**4)*(1 - 0.5*(xv**2+yv**2)/(sigma**2))\n",
    "\n",
    "    return h"
   ]
  },
  {
   "cell_type": "markdown",
   "id": "723ac28b",
   "metadata": {},
   "source": [
    "## Linear Filter: Image Gradients"
   ]
  },
  {
   "cell_type": "code",
   "execution_count": null,
   "id": "fd926a6b",
   "metadata": {
    "scrolled": false
   },
   "outputs": [],
   "source": [
    "# mode: reflect  (d c b a | a b c d | d c b a)\n",
    "# mode: constant (k k k k | a b c d | k k k k) -- (cval=k)\n",
    "# mode: nearest  (a a a a | a b c d | d d d d)\n",
    "# mode: mirror     (d c b | a b c d | c b a)\n",
    "# mode: wrap     (a b c d | a b c d | a b c d)\n",
    "\n",
    "mode = 'reflect'\n",
    "\n",
    "Ip = I1\n",
    "Ip = flt.gaussian(Ip, sigma=2, mode=mode)\n",
    "\n",
    "h = sobel_kernel()\n",
    "#h = prewitt_kernel()\n",
    "\n",
    "I2 = convolve(Ip, h, mode=mode)\n",
    "\n",
    "show_imghist(np.real(I2), -0.2, 0.2)      # horizontal gradient\n",
    "show_imghist(np.imag(I2), -0.2, 0.2)      # vertical gradient\n",
    "show_imghist(np.absolute(I2), 0, 1.0)     # gradient magnitude\n",
    "show_imghist(np.angle(I2), -np.pi, np.pi)   # gradient angle"
   ]
  },
  {
   "cell_type": "markdown",
   "id": "1a5c2f94",
   "metadata": {},
   "source": [
    "## Linear Filter: Embossing"
   ]
  },
  {
   "cell_type": "code",
   "execution_count": null,
   "id": "ba6d5c18",
   "metadata": {},
   "outputs": [],
   "source": [
    "h = emboss_kernel()\n",
    "\n",
    "I2 = convolve(I1, h, mode=mode)\n",
    "\n",
    "print_imginfo(I2)\n",
    "\n",
    "show_imghist(I1, vmin=0, vmax=1)\n",
    "show_imghist(I2, vmin=0, vmax=1)"
   ]
  },
  {
   "cell_type": "markdown",
   "id": "47c5d66c",
   "metadata": {},
   "source": [
    "## Linear Filter: Unsharp Masking"
   ]
  },
  {
   "cell_type": "code",
   "execution_count": null,
   "id": "c6ae502f",
   "metadata": {
    "scrolled": false
   },
   "outputs": [],
   "source": [
    "sigma = 1.0\n",
    "truncate = 3.0\n",
    "alpha = 3.0\n",
    "\n",
    "Ip = I1\n",
    "Ip = flt.gaussian(Ip, sigma=sigma, truncate=truncate, mode=mode)\n",
    "\n",
    "h = laplacian_kernel()\n",
    "I2 = convolve(Ip, h, mode=mode)\n",
    "\n",
    "I3 = I1 + alpha*I2\n",
    "\n",
    "show_imghist(I1)\n",
    "show_imghist(I2, vmin=-0.04, vmax=0.04)\n",
    "show_imghist(I3)"
   ]
  },
  {
   "cell_type": "code",
   "execution_count": null,
   "id": "e3980a70",
   "metadata": {
    "scrolled": false
   },
   "outputs": [],
   "source": [
    "h = mexicanhat_kernel(sigma=sigma, truncate=truncate)\n",
    "I2 = convolve(I1, h, mode=mode)\n",
    "\n",
    "I3 = I1 + alpha*I2\n",
    "\n",
    "show_imghist(I1)\n",
    "show_imghist(I2, vmin=-0.04, vmax=0.04)\n",
    "show_imghist(I3)"
   ]
  }
 ],
 "metadata": {
  "kernelspec": {
   "display_name": "Python 3 (ipykernel)",
   "language": "python",
   "name": "python3"
  },
  "language_info": {
   "codemirror_mode": {
    "name": "ipython",
    "version": 3
   },
   "file_extension": ".py",
   "mimetype": "text/x-python",
   "name": "python",
   "nbconvert_exporter": "python",
   "pygments_lexer": "ipython3",
   "version": "3.9.15"
  }
 },
 "nbformat": 4,
 "nbformat_minor": 5
}
