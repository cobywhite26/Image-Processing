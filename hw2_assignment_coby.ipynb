{
 "cells": [
  {
   "cell_type": "markdown",
   "metadata": {},
   "source": [
    "# Histogram Equalization\n",
    "\n",
    "Implement histogram equalization and apply to Cheetah.png. Update show_imghist() to take two images and produce a 2x2 grid of those images and their histograms. The first image should be the original image. The second image should be the histogram equalized image. Update the metadata to include YOUR NAME. Submit a clean ipynb file that can run and produce the requested output.\n",
    "\n",
    "ECE472: Use skimage.exposure.equalize_hist() to perform the enhancement.\n",
    "\n",
    "ECE572: Implement equalize_hist(image, nbins=256). Use skimage.exposure.histogram() to produce a histogram for the image along with associated bin centers. Use numpy.cumsum() to calculate the cumulative distribution for the histogram. Remember to rescale so CDF[-1] = 1. Use numpy.interp() to interpolate image intensity values given image.flat, the bin centers and the cumulative distribution function. Reshape the result to the shape of the input image.\n",
    "\n",
    "BONUS: For bragging rights, implement equalize_hist(image, nbins=256, use_sqrt=False) where the use_sqrt argument controls whether to use histogram values $H_i$ or $\\sqrt{H_i}$ when forming the cumulative distribution. Show the result of use_sqrt=False and use_sqrt=True."
   ]
  },
  {
   "cell_type": "code",
   "execution_count": null,
   "metadata": {},
   "outputs": [],
   "source": [
    "%matplotlib inline\n",
    "import matplotlib.pyplot as plt\n",
    "import skimage\n",
    "import numpy as np\n",
    "\n",
    "from skimage import io\n",
    "from skimage import exposure\n",
    "from skimage.util import img_as_float32 as img_as_float\n",
    "\n",
    "\n",
    "# Load packages need"
   ]
  },
  {
   "cell_type": "code",
   "execution_count": null,
   "metadata": {},
   "outputs": [],
   "source": [
    "def print_imginfo(I):\n",
    "    print(type(I))\n",
    "    print(I.shape, I.dtype)\n",
    "    print(\"Data Range: \", np.min(I), \"to\", np.max(I))\n",
    "    # Print image type, image shape and dtype, image min and max values"
   ]
  },
  {
   "cell_type": "code",
   "execution_count": null,
   "metadata": {},
   "outputs": [],
   "source": [
    "def show_imghist(I1, I2, I3):\n",
    "    fig, ax = plt.subplots(3,2, figsize =(10,5))\n",
    "\n",
    "    fig.subplots_adjust(hspace=0.75, wspace=0.0)\n",
    "    \n",
    "    ax[0,0].imshow(I1, cmap='gray', vmin=0.0, vmax=1.0)\n",
    "    ax[0,0].set_axis_off()\n",
    "    ax[0,0].set_title(\"Original Image\")\n",
    "    \n",
    "    \n",
    "    ax[0,1].hist(I1.ravel(), lw=0, bins=256)\n",
    "    ax[0,1].set_xlim(0.0,1.0)\n",
    "    ax[0,1].set_yticks([])\n",
    "    ax[0,1].set_title(\"Original Image - Histogram\")\n",
    "\n",
    "    ax[1, 0].imshow(I2, cmap='gray', vmin=0.0, vmax=1.0)\n",
    "    ax[1,0].set_axis_off()\n",
    "    ax[1,0].set_title(\"Histogram Equalized Image\")\n",
    "    \n",
    "    ax[1,1].hist(I2.ravel(), lw=0, bins=256)\n",
    "    ax[1,1].set_xlim(0.0,1.0)\n",
    "    ax[1,1].set_yticks([])\n",
    "    ax[1,1].set_title(\"Histogram Equalized Image - Histogram\")\n",
    "\n",
    "    ax[2,0].imshow(I3, cmap='gray', vmin=0.0, vmax=1.0)\n",
    "    ax[2,0].set_axis_off()\n",
    "    ax[2,0].set_title(\"Square Rooted Image\")\n",
    "\n",
    "    ax[2,1].hist(I3.ravel(), lw=0, bins=256)\n",
    "    ax[2,1].set_xlim(0.0,1.0)\n",
    "    ax[2,1].set_yticks([])\n",
    "    ax[2,1].set_title(\"Square Rooted Image - Histogram\")\n",
    "\n",
    "    \n",
    "\n",
    "    # All students"
   ]
  },
  {
   "cell_type": "code",
   "execution_count": null,
   "metadata": {},
   "outputs": [],
   "source": [
    "def equalize_hist(I1,nbins=256,use_sqrt=False):\n",
    "    # print(\"this runs\")\n",
    "    I2 = I1\n",
    "    # TODO: don't use scikit-image exposure to do this, implement yourself according to instructions\n",
    "    hist, bin_centers = exposure.histogram(I2, nbins=nbins)\n",
    "    x = np.cumsum(hist)\n",
    "    y = x/x[-1]\n",
    "    z = np.interp(I2.flat, bin_centers, y)\n",
    "    z = np.reshape(z,I1.shape)\n",
    "    I2 = z\n",
    "    if use_sqrt is True:\n",
    "        I2 = np.sqrt(I2)\n",
    "    \n",
    "    #print(\"hist:\", hist)\n",
    "   # print(\"bins:\", bin_centers)\n",
    "    #print(f\"x: {x}\")\n",
    "   # print(f\"y: {y}\")\n",
    "    return I2.astype(I1.dtype, copy=False)"
   ]
  },
  {
   "cell_type": "code",
   "execution_count": null,
   "metadata": {
    "scrolled": true
   },
   "outputs": [],
   "source": [
    "\n",
    "# Read input image, convert to float32\n",
    "I1 = io.imread(\"./cheetah.png\", as_gray = True)\n",
    "I1 = img_as_float(I1)\n",
    "\n",
    "# Perform histogram equalization\n",
    "I2 = equalize_hist(I1, nbins=256)\n",
    "I3 = equalize_hist(I1, nbins=256, use_sqrt = True)\n",
    "\n",
    "\n",
    "# Print image info for inputnbins image\n",
    "print_imginfo(I1)\n",
    "\n",
    "# Print image info for output image\n",
    "print_imginfo(I2)\n",
    "# Show both images and their histograms\n",
    "show_imghist(I1, I2, I3)\n",
    "\n"
   ]
  },
  {
   "cell_type": "code",
   "execution_count": null,
   "metadata": {},
   "outputs": [],
   "source": []
  }
 ],
 "metadata": {
  "kernelspec": {
   "display_name": "Python 3",
   "language": "python",
   "name": "python3"
  },
  "language_info": {
   "codemirror_mode": {
    "name": "ipython",
    "version": 3
   },
   "file_extension": ".py",
   "mimetype": "text/x-python",
   "name": "python",
   "nbconvert_exporter": "python",
   "pygments_lexer": "ipython3",
   "version": "3.10.6 (main, Nov 14 2022, 16:10:14) [GCC 11.3.0]"
  },
  "title": "YOUR NAME",
  "vscode": {
   "interpreter": {
    "hash": "916dbcbb3f70747c44a77c7bcd40155683ae19c65e1c03b4aa3499c5328201f1"
   }
  }
 },
 "nbformat": 4,
 "nbformat_minor": 5
}
