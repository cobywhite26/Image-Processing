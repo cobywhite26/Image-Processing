{
 "cells": [
  {
   "cell_type": "markdown",
   "id": "419560c8",
   "metadata": {},
   "source": [
    "# Image Enhancement: Point Operations"
   ]
  },
  {
   "cell_type": "code",
   "execution_count": null,
   "id": "4aa59009",
   "metadata": {},
   "outputs": [],
   "source": [
    "%matplotlib inline\n",
    "\n",
    "import numpy as np\n",
    "\n",
    "import matplotlib.image as img\n",
    "import matplotlib.pyplot as plt\n",
    "\n",
    "from skimage import io\n",
    "from skimage import exposure\n",
    "from skimage.util import random_noise\n",
    "from skimage.util import img_as_float32 as img_as_float"
   ]
  },
  {
   "cell_type": "code",
   "execution_count": null,
   "id": "1945f0f4",
   "metadata": {},
   "outputs": [],
   "source": [
    "def print_imginfo(I):\n",
    "    print(type(I))\n",
    "    print(I.shape, I.dtype)\n",
    "    print('Data range:', np.min(I), 'to', np.max(I))"
   ]
  },
  {
   "cell_type": "code",
   "execution_count": null,
   "id": "fccd02a7",
   "metadata": {},
   "outputs": [],
   "source": [
    "def show_imghist(I):\n",
    "    fig, ax = plt.subplots(1, 2, figsize=(10,3))\n",
    "    \n",
    "    ax[0].imshow(I, cmap='gray', vmin=-0.1, vmax=1.1)\n",
    "    ax[0].set_axis_off()\n",
    "    \n",
    "    ax[1].hist(I.ravel(), lw=0, bins=256, range=(-0.99,0.99));\n",
    "    ax[1].set_xlim(-1,1)\n",
    "    ax[1].set_yticks([])"
   ]
  },
  {
   "cell_type": "code",
   "execution_count": null,
   "id": "46a8cb1f",
   "metadata": {
    "scrolled": false
   },
   "outputs": [],
   "source": [
    "I1 = io.imread(\"../../images/parrot.png\", as_gray=True)\n",
    "I1 = img_as_float(I1)\n",
    "\n",
    "noise_mean = 0.0\n",
    "noise_var = 0.10\n",
    "\n",
    "I2 = random_noise(I1, mode='gaussian', clip=False, mean=noise_mean, var=noise_var)\n",
    "I2 = img_as_float(I2)\n",
    "\n",
    "print_imginfo(I1)\n",
    "print('')\n",
    "print_imginfo(I2)\n",
    "\n",
    "show_imghist(I1)\n",
    "show_imghist(I2)\n",
    "show_imghist(I2-I1)"
   ]
  },
  {
   "cell_type": "markdown",
   "id": "4e6d87c5",
   "metadata": {},
   "source": [
    "## Arithmetic Operations: Averaging"
   ]
  },
  {
   "cell_type": "code",
   "execution_count": null,
   "id": "3bd20005",
   "metadata": {
    "scrolled": false
   },
   "outputs": [],
   "source": [
    "fig = plt.figure(figsize=(10,8))\n",
    "\n",
    "Ix = []\n",
    "for i in range(1,21):\n",
    "    I2 = random_noise(I1, mode='gaussian', clip=False, mean=noise_mean, var=noise_var)\n",
    "    Ix.append(I2)\n",
    "    plt.subplot(4,5,i)\n",
    "    plt.imshow(I2, cmap='gray', vmin=-0.1, vmax=1.1)\n",
    "    plt.axis('off')  \n",
    "plt.subplots_adjust(wspace=0.05, hspace=0.05)\n",
    "plt.show()"
   ]
  },
  {
   "cell_type": "code",
   "execution_count": null,
   "id": "f8a2ff9d",
   "metadata": {
    "scrolled": false
   },
   "outputs": [],
   "source": [
    "fig = plt.figure(figsize=(10,8))\n",
    "\n",
    "for i in range(1,21):\n",
    "    I2 = np.mean(Ix[:i], axis=0) - I1\n",
    "    plt.subplot(4,5,i)\n",
    "    plt.hist(I2.ravel(), lw=0, bins=256, range=(-0.99,0.99))\n",
    "    print(' N=%d mean=%.4f var=%.3f' % (i, np.mean(I2), np.var(I2)))\n",
    "    plt.xticks([])\n",
    "    plt.yticks([])\n",
    "plt.subplots_adjust(wspace=0.05, hspace=0.05)\n",
    "plt.show()\n",
    "\n",
    "show_imghist(np.mean(Ix, axis=0))"
   ]
  }
 ],
 "metadata": {
  "kernelspec": {
   "display_name": "Python 3 (ipykernel)",
   "language": "python",
   "name": "python3"
  },
  "language_info": {
   "codemirror_mode": {
    "name": "ipython",
    "version": 3
   },
   "file_extension": ".py",
   "mimetype": "text/x-python",
   "name": "python",
   "nbconvert_exporter": "python",
   "pygments_lexer": "ipython3",
   "version": "3.9.15"
  }
 },
 "nbformat": 4,
 "nbformat_minor": 5
}
