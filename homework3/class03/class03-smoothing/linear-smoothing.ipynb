{
 "cells": [
  {
   "cell_type": "markdown",
   "id": "419560c8",
   "metadata": {},
   "source": [
    "# Image Filtering: Spatial Methods"
   ]
  },
  {
   "cell_type": "code",
   "execution_count": null,
   "id": "4aa59009",
   "metadata": {},
   "outputs": [],
   "source": [
    "%matplotlib inline\n",
    "\n",
    "import numpy as np\n",
    "\n",
    "import matplotlib.image as img\n",
    "import matplotlib.pyplot as plt\n",
    "\n",
    "from skimage import io\n",
    "from skimage.util import img_as_float32 as img_as_float\n",
    "\n",
    "from scipy.ndimage import convolve"
   ]
  },
  {
   "cell_type": "code",
   "execution_count": null,
   "id": "1945f0f4",
   "metadata": {},
   "outputs": [],
   "source": [
    "def print_imginfo(I):\n",
    "    print(type(I))\n",
    "    print(I.shape, I.dtype)\n",
    "    print('Data range:', np.min(I), 'to', np.max(I))"
   ]
  },
  {
   "cell_type": "code",
   "execution_count": null,
   "id": "fccd02a7",
   "metadata": {},
   "outputs": [],
   "source": [
    "def show_imghist(I):\n",
    "    fig, ax = plt.subplots(1, 2, figsize=(10,3))\n",
    "    \n",
    "    ax[0].imshow(I, cmap='gray', vmin=0.0, vmax=1.0)\n",
    "    ax[0].set_axis_off()\n",
    "    \n",
    "    ax[1].hist(I.ravel(), lw=0, bins=256, range=(0.01,0.99));\n",
    "    ax[1].set_xlim(0.0,1)\n",
    "    ax[1].set_yticks([])"
   ]
  },
  {
   "cell_type": "code",
   "execution_count": null,
   "id": "46a8cb1f",
   "metadata": {
    "scrolled": true
   },
   "outputs": [],
   "source": [
    "I1 = io.imread(\"../../images/parrot.png\", as_gray=True)\n",
    "# I1 = io.imread(\"../../images/cars.jpg\", as_gray=True)\n",
    "I1 = img_as_float(I1)\n",
    "\n",
    "print_imginfo(I1)\n",
    "show_imghist(I1)"
   ]
  },
  {
   "cell_type": "markdown",
   "id": "4b448598",
   "metadata": {},
   "source": [
    "## Linear Filter:  Blurring Kernels"
   ]
  },
  {
   "cell_type": "code",
   "execution_count": null,
   "id": "e0c4ccae",
   "metadata": {},
   "outputs": [],
   "source": [
    "def box_kernel(N, M=None):\n",
    "    if M == None:\n",
    "        M = N\n",
    "    \n",
    "    h = np.ones((N,M))\n",
    "    h /= h.sum()\n",
    "    \n",
    "    return h\n",
    "\n",
    "def gaussian_kernel(sigma=1.0, truncate=3.0):\n",
    "    N = np.int32(np.round(truncate*sigma))\n",
    "    \n",
    "    x = np.arange(-N, N+1)\n",
    "    y = np.arange(-N, N+1)\n",
    "    xv, yv = np.meshgrid(x, y)\n",
    "    \n",
    "    h = np.exp(-0.5*(xv**2+yv**2)/(sigma**2))\n",
    "    h /= h.sum()\n",
    "\n",
    "    return h"
   ]
  },
  {
   "cell_type": "markdown",
   "id": "723ac28b",
   "metadata": {},
   "source": [
    "## Linear Filter: Image Smoothing"
   ]
  },
  {
   "cell_type": "code",
   "execution_count": null,
   "id": "fd926a6b",
   "metadata": {
    "scrolled": false
   },
   "outputs": [],
   "source": [
    "# mode: reflect  (d c b a | a b c d | d c b a)\n",
    "# mode: constant (k k k k | a b c d | k k k k) -- (cval=k)\n",
    "# mode: nearest  (a a a a | a b c d | d d d d)\n",
    "# mode: mirror     (d c b | a b c d | c b a)\n",
    "# mode: wrap     (a b c d | a b c d | a b c d)\n",
    "\n",
    "mode = 'reflect'\n",
    "sigma = 1.0\n",
    "\n",
    "h1 = box_kernel(9)\n",
    "I2 = convolve(I1, h1, mode=mode)\n",
    "\n",
    "h2 = gaussian_kernel(sigma=sigma, truncate=3)\n",
    "I3 = convolve(I1, h2, mode=mode)\n",
    "\n",
    "print('Gaussian kernel:')\n",
    "print(np.around(h2,2))\n",
    "print('')\n",
    "\n",
    "print_imginfo(I2)\n",
    "print('')\n",
    "print_imginfo(I3)\n",
    "\n",
    "show_imghist(I2)\n",
    "show_imghist(I3)"
   ]
  },
  {
   "cell_type": "markdown",
   "id": "863a2661",
   "metadata": {},
   "source": [
    "## Linear Filter: Separable Kernel"
   ]
  },
  {
   "cell_type": "code",
   "execution_count": null,
   "id": "8a6f89bb",
   "metadata": {},
   "outputs": [],
   "source": [
    "from scipy import signal\n",
    "\n",
    "N = 2*np.int32(np.round(3*sigma))+1\n",
    "h = signal.windows.gaussian(N, sigma)\n",
    "h /= np.sum(h)\n",
    "\n",
    "I4 = convolve(I1, h.reshape((1,N)), mode=mode)\n",
    "I4 = convolve(I4, h.reshape((N,1)), mode=mode)\n",
    "I4 = img_as_float(I4)\n",
    "\n",
    "print_imginfo(I4)\n",
    "show_imghist(I4)"
   ]
  },
  {
   "cell_type": "markdown",
   "id": "47c5d66c",
   "metadata": {},
   "source": [
    "## Linear Filter: Unsharp Masking"
   ]
  },
  {
   "cell_type": "code",
   "execution_count": null,
   "id": "303efb58",
   "metadata": {},
   "outputs": [],
   "source": [
    "alpha = 1.2\n",
    "I5 = alpha*I1 + alpha*(I1-I4)\n",
    "I5 = np.clip(I5, 0, 1)\n",
    "\n",
    "print_imginfo(I1)\n",
    "print('')\n",
    "print_imginfo(I5)\n",
    "\n",
    "show_imghist(I1)\n",
    "show_imghist(I5)"
   ]
  }
 ],
 "metadata": {
  "kernelspec": {
   "display_name": "Python 3 (ipykernel)",
   "language": "python",
   "name": "python3"
  },
  "language_info": {
   "codemirror_mode": {
    "name": "ipython",
    "version": 3
   },
   "file_extension": ".py",
   "mimetype": "text/x-python",
   "name": "python",
   "nbconvert_exporter": "python",
   "pygments_lexer": "ipython3",
   "version": "3.9.15"
  }
 },
 "nbformat": 4,
 "nbformat_minor": 5
}
