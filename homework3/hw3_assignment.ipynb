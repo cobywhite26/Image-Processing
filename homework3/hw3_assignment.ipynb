{
 "cells": [
  {
   "cell_type": "markdown",
   "id": "419560c8",
   "metadata": {},
   "source": [
    "# HW3 Image Filtering: Disk Kernel\n",
    "\n",
    "ECE472: Implement a disk_kernel() function based on the box_kernel() and circular_mask() functions from class. Modify show_imghist() to allow control over (vmin,vmax) range. Apply box_kernel() and disk_kernel() to cars.jpg. \n",
    "\n",
    "Add _brief_ Markdown summary of pertinent oberservations (which kernel blurs more, what looks the same/different in the two, etc).\n",
    "\n",
    "ECE572: Same as ECE472."
   ]
  },
  {
   "cell_type": "code",
   "execution_count": null,
   "id": "4aa59009",
   "metadata": {
    "vscode": {
     "languageId": "python"
    }
   },
   "outputs": [
    {
     "ename": "",
     "evalue": "",
     "output_type": "error",
     "traceback": [
      "\u001b[1;31mFailed to start the Kernel. \n",
      "\u001b[1;31mView Jupyter <a href='command:jupyter.viewOutput'>log</a> for further details."
     ]
    }
   ],
   "source": [
    "%matplotlib inline\n",
    "import numpy as np\n",
    "\n",
    "import matplotlib.image as img\n",
    "import matplotlib.pyplot as plt\n",
    "\n",
    "from skimage import io \n",
    "from skimage.util import img_as_float32 as img_as_float\n",
    "\n",
    "from scipy.ndimage import convolve\n",
    "# Load packages needed"
   ]
  },
  {
   "cell_type": "code",
   "execution_count": null,
   "id": "1945f0f4",
   "metadata": {
    "vscode": {
     "languageId": "python"
    }
   },
   "outputs": [
    {
     "ename": "",
     "evalue": "",
     "output_type": "error",
     "traceback": [
      "\u001b[1;31mFailed to start the Kernel. \n",
      "\u001b[1;31mView Jupyter <a href='command:jupyter.viewOutput'>log</a> for further details."
     ]
    }
   ],
   "source": [
    "def print_imginfo(I):\n",
    "    print(type(I))\n",
    "    print(I.shape, I.dtype)\n",
    "    print(\"Data Range: \", np.min(I), \"to\", np.max(I))\n",
    "    # Copy from HW2"
   ]
  },
  {
   "cell_type": "code",
   "execution_count": null,
   "id": "fccd02a7",
   "metadata": {
    "vscode": {
     "languageId": "python"
    }
   },
   "outputs": [
    {
     "ename": "",
     "evalue": "",
     "output_type": "error",
     "traceback": [
      "\u001b[1;31mFailed to start the Kernel. \n",
      "\u001b[1;31mView Jupyter <a href='command:jupyter.viewOutput'>log</a> for further details."
     ]
    }
   ],
   "source": [
    "def show_imghist(I):\n",
    "    fig, ax = plt.subplots(1,2, figsize=(10,3))\n",
    "\n",
    "    ax[0].imshow(I, cmap=\"gray\", vmin=0.0, vmax=1.0)\n",
    "    ax[0].set_axis_off()\n",
    "\n",
    "    ax[1].hist(I.ravel(), lw=0, bins=256, range=(0.01, 0.99))\n",
    "    ax[1].set_xlim(0.0,0.1)\n",
    "    ax[1].set_yticks([])\n",
    "\n",
    "    # Copy from HW2\n",
    "    # Add optional vmin, vmax arguments that have default values of 0 and 1"
   ]
  },
  {
   "cell_type": "code",
   "execution_count": null,
   "id": "46a8cb1f",
   "metadata": {
    "scrolled": true,
    "vscode": {
     "languageId": "python"
    }
   },
   "outputs": [
    {
     "ename": "",
     "evalue": "",
     "output_type": "error",
     "traceback": [
      "\u001b[1;31mFailed to start the Kernel. \n",
      "\u001b[1;31mView Jupyter <a href='command:jupyter.viewOutput'>log</a> for further details."
     ]
    }
   ],
   "source": [
    "# Read cars image, convert to float32\n",
    "I1 = io.imread(\"./cars.jpg\", as_gray=True)\n",
    "I1 = img_as_float(I1)\n",
    "# Run print_imginfo() and show_imghist()\n",
    "print_imginfo(I1)"
   ]
  },
  {
   "cell_type": "code",
   "execution_count": null,
   "id": "7aba8261",
   "metadata": {
    "vscode": {
     "languageId": "python"
    }
   },
   "outputs": [
    {
     "ename": "",
     "evalue": "",
     "output_type": "error",
     "traceback": [
      "\u001b[1;31mFailed to start the Kernel. \n",
      "\u001b[1;31mView Jupyter <a href='command:jupyter.viewOutput'>log</a> for further details."
     ]
    }
   ],
   "source": [
    "def box_kernel(N), M=None:\n",
    "    if M == None:\n",
    "        M = N\n",
    "    h = np.ones((N,M))\n",
    "    h /= h.sum()\n",
    "\n",
    "    return h\n",
    "    \n",
    "    \n",
    "def disk_kernel(N):\n",
    "    # Center coefficient equals 1\n",
    "    center = 1\n",
    "    array = np.zeros(N,N)\n",
    "    print(array)\n",
    "\n",
    "    # Off-center coefficients equal inverse distance to center\n",
    "    # Normalize kernel "
   ]
  },
  {
   "cell_type": "code",
   "execution_count": null,
   "id": "718634ab",
   "metadata": {
    "vscode": {
     "languageId": "python"
    }
   },
   "outputs": [
    {
     "ename": "",
     "evalue": "",
     "output_type": "error",
     "traceback": [
      "\u001b[1;31mFailed to start the Kernel. \n",
      "\u001b[1;31mView Jupyter <a href='command:jupyter.viewOutput'>log</a> for further details."
     ]
    }
   ],
   "source": [
    "# Apply box_kernel(N) and disk_kernel(N) to loaded image using scipy.ndimage.convolve().\n",
    "# Ultimately, use N=15 but try smaller and larger values as well to see effects thereof.\n",
    "# Run print_imginfo() and show_imghist() on blurred image, say Iblur. Repeat for difference\n",
    "# wrt original image, i.e., Iblur-I. Use appropriate (vmin,max) values."
   ]
  }
 ],
 "metadata": {
  "kernelspec": {
   "display_name": "Python 3 (ipykernel)",
   "language": "python",
   "name": "python3"
  }
 },
 "nbformat": 4,
 "nbformat_minor": 5
}
