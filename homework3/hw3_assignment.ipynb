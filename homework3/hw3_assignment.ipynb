{
 "cells": [
  {
   "cell_type": "markdown",
   "id": "419560c8",
   "metadata": {},
   "source": [
    "# HW3 Image Filtering: Disk Kernel\n",
    "\n",
    "ECE472: Implement a disk_kernel() function based on the box_kernel() and circular_mask() functions from class. Modify show_imghist() to allow control over (vmin,vmax) range. Apply box_kernel() and disk_kernel() to cars.jpg. \n",
    "\n",
    "Add _brief_ Markdown summary of pertinent oberservations (which kernel blurs more, what looks the same/different in the two, etc).\n",
    "\n",
    "ECE572: Same as ECE472."
   ]
  },
  {
   "cell_type": "code",
   "execution_count": 1,
   "id": "4aa59009",
   "metadata": {},
   "outputs": [],
   "source": [
    "%matplotlib inline\n",
    "# Load packages needed"
   ]
  },
  {
   "cell_type": "code",
   "execution_count": 2,
   "id": "1945f0f4",
   "metadata": {},
   "outputs": [
    {
     "ename": "IndentationError",
     "evalue": "expected an indented block (3305821438.py, line 2)",
     "output_type": "error",
     "traceback": [
      "\u001b[0;36m  Input \u001b[0;32mIn [2]\u001b[0;36m\u001b[0m\n\u001b[0;31m    # Copy from HW2\u001b[0m\n\u001b[0m                   ^\u001b[0m\n\u001b[0;31mIndentationError\u001b[0m\u001b[0;31m:\u001b[0m expected an indented block\n"
     ]
    }
   ],
   "source": [
    "def print_imginfo(I):\n",
    "    # Copy from HW2"
   ]
  },
  {
   "cell_type": "code",
   "execution_count": null,
   "id": "fccd02a7",
   "metadata": {},
   "outputs": [],
   "source": [
    "def show_imghist(I):\n",
    "    # Copy from HW2\n",
    "    # Add optional vmin, vmax arguments that have default values of 0 and 1"
   ]
  },
  {
   "cell_type": "code",
   "execution_count": null,
   "id": "46a8cb1f",
   "metadata": {
    "scrolled": true
   },
   "outputs": [],
   "source": [
    "# Read cars image, convert to float32\n",
    "# Run print_imginfo() and show_imghist()"
   ]
  },
  {
   "cell_type": "code",
   "execution_count": null,
   "id": "7aba8261",
   "metadata": {},
   "outputs": [],
   "source": [
    "def box_kernel(N):\n",
    "    # All coefficients equal 1\n",
    "    # Normalize kernel\n",
    "    \n",
    "def disk_kernel(N):\n",
    "    # Center coefficient equals 1\n",
    "    # Off-center coefficients equal inverse distance to center\n",
    "    # Normalize kernel "
   ]
  },
  {
   "cell_type": "code",
   "execution_count": null,
   "id": "718634ab",
   "metadata": {},
   "outputs": [],
   "source": [
    "# Apply box_kernel(N) and disk_kernel(N) to loaded image using scipy.ndimage.convolve().\n",
    "# Ultimately, use N=15 but try smaller and larger values as well to see effects thereof.\n",
    "# Run print_imginfo() and show_imghist() on blurred image, say Iblur. Repeat for difference\n",
    "# wrt original image, i.e., Iblur-I. Use appropriate (vmin,max) values."
   ]
  }
 ],
 "metadata": {
  "kernelspec": {
   "display_name": "Python 3 (ipykernel)",
   "language": "python",
   "name": "python3"
  },
  "language_info": {
   "codemirror_mode": {
    "name": "ipython",
    "version": 3
   },
   "file_extension": ".py",
   "mimetype": "text/x-python",
   "name": "python",
   "nbconvert_exporter": "python",
   "pygments_lexer": "ipython3",
   "version": "3.9.15"
  }
 },
 "nbformat": 4,
 "nbformat_minor": 5
}
