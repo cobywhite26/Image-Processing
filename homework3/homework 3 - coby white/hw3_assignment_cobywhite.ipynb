{
 "cells": [
  {
   "cell_type": "markdown",
   "id": "419560c8",
   "metadata": {},
   "source": [
    "# HW3 Image Filtering: Disk Kernel\n",
    "\n",
    "ECE472: Implement a disk_kernel() function based on the box_kernel() and circular_mask() functions from class. Modify show_imghist() to allow control over (vmin,vmax) range. Apply box_kernel() and disk_kernel() to cars.jpg. \n",
    "\n",
    "Add _brief_ Markdown summary of pertinent oberservations (which kernel blurs more, what looks the same/different in the two, etc).\n",
    "\n",
    "ECE572: Same as ECE472."
   ]
  },
  {
   "attachments": {},
   "cell_type": "markdown",
   "id": "6ea8ac57",
   "metadata": {},
   "source": [
    "The box kernel has a stronger blur effect than the disk kernel. As N increases for both kernels, the blurryness of each image also increases. Even the pictures get blurrier, you can still tell what the different features (cars, man holding the umbrella, etc) that exist in the picture by their shape despite the details going away. Lastly, for the box kernel, the colors start to blend together for higher values of N. "
   ]
  },
  {
   "cell_type": "code",
   "execution_count": null,
   "id": "4aa59009",
   "metadata": {},
   "outputs": [],
   "source": [
    "%matplotlib inline\n",
    "import numpy as np\n",
    "\n",
    "import matplotlib.image as img\n",
    "import matplotlib.pyplot as plt\n",
    "\n",
    "from skimage import io \n",
    "from skimage.util import img_as_float32 as img_as_float\n",
    "\n",
    "from scipy.ndimage import convolve\n",
    "# Load packages needed"
   ]
  },
  {
   "cell_type": "code",
   "execution_count": null,
   "id": "1945f0f4",
   "metadata": {},
   "outputs": [],
   "source": [
    "def print_imginfo(I):\n",
    "    print(type(I))\n",
    "    print(I.shape, I.dtype)\n",
    "    print(\"Data Range: \", np.min(I), \"to\", np.max(I))\n",
    "    # Copy from HW2"
   ]
  },
  {
   "cell_type": "code",
   "execution_count": null,
   "id": "fccd02a7",
   "metadata": {},
   "outputs": [],
   "source": [
    "def show_imghist(I1,I2,I3):\n",
    "    fig, ax = plt.subplots(3,2, figsize=(10,5))\n",
    "\n",
    "    fig.subplots_adjust(hspace=1.25)\n",
    "\n",
    "    ax[0,0].imshow(I1, cmap=\"gray\", vmin=0.0, vmax=1.0)\n",
    "    ax[0,0].set_axis_off()\n",
    "    ax[0,0].set_title(\"Original Image\")\n",
    "\n",
    "    ax[0,1].hist(I1.ravel(), lw=0, bins=256)\n",
    "    ax[0,1].set_xlim(0.0,1.0)\n",
    "    ax[0,1].set_yticks([])\n",
    "    ax[0,1].set_title(\"Original Image - Histogram\")\n",
    "\n",
    "    ax[1,0].imshow(I2, cmap='gray', vmin=0.0, vmax=1.0)\n",
    "    ax[1,0].set_axis_off()\n",
    "    ax[1,0].set_title(\"Blur - Box Kernel\")\n",
    "\n",
    "    ax[1,1].hist(I2.ravel(), lw=0, bins=256)\n",
    "    ax[1,1].set_xlim(0.0,1.0)\n",
    "    ax[1,1].set_yticks([])\n",
    "    ax[1,1].set_title(\"Box Kernel - Histogram\")\n",
    "\n",
    "    ax[2,0].imshow(I3, cmap='gray', vmin=0.0, vmax=1.0)\n",
    "    ax[2,0].set_axis_off()\n",
    "    ax[2,0].set_title(\"Blur - Disk Kernel\")\n",
    "    \n",
    "    ax[2,1].hist(I3.ravel(), lw=0, bins=256)\n",
    "    ax[2,1].set_xlim(0.0,1.0)\n",
    "    ax[2,1].set_yticks([])\n",
    "    ax[2,1].set_title(\"Disk Kernel - Histogram\")\n",
    "\n",
    "    \n",
    "\n",
    "    # Copy from HW2\n",
    "    # Add optional vmin, vmax arguments that have default values of 0 and 1"
   ]
  },
  {
   "cell_type": "code",
   "execution_count": null,
   "id": "46a8cb1f",
   "metadata": {
    "scrolled": true
   },
   "outputs": [],
   "source": [
    "# Read cars image, convert to float32\n",
    "I1 = io.imread(\"./cars.jpg\", as_gray=True)\n",
    "I1 = img_as_float(I1)\n",
    "# Run print_imginfo() and show_imghist()\n",
    "print_imginfo(I1)"
   ]
  },
  {
   "cell_type": "code",
   "execution_count": null,
   "id": "7aba8261",
   "metadata": {},
   "outputs": [],
   "source": [
    "def box_kernel(N, M=None):\n",
    "    if M == None:\n",
    "        M = N\n",
    "    h = np.ones((N,M))\n",
    "    h /= h.sum()\n",
    "\n",
    "    return h\n",
    "    \n",
    "    \n",
    "def disk_kernel(N):\n",
    "    # Center coefficient equals 1\n",
    "    kernel_disk = np.zeros((N,N))\n",
    "    center = N//2\n",
    "    kernel_disk[center,center]=1\n",
    "    #normalized_kernel_disk = kernel_disk\n",
    "    # Off-center coefficients equal inverse distance to center\n",
    "    for x in range(kernel_disk.shape[0]):\n",
    "        for y in range(kernel_disk.shape[1]):\n",
    "            if x!=center or y!=center:\n",
    "                #print(f\"x: {x}\")\n",
    "                #print(f\"y: {y}\")\n",
    "                inverse_distance = 1/(np.sqrt((center-x)**2+(center-y)**2))\n",
    "                #print(f\"distance: {np.sqrt((kernel_disk[center,center]-x)**2+(kernel_disk[center,center]-y)**2)}\")\n",
    "                #print(f\"inverse_distance: {inverse_distance}\")\n",
    "                kernel_disk[x][y] = inverse_distance #not normalized yet\n",
    "    # print(f\"kernel_disk: {kernel_disk}\")\n",
    "    # print(f\"kernel disk shape: {kernel_disk.shape}\")\n",
    "    \n",
    "    # Normalize kernel \n",
    "    kernel_disk /= kernel_disk.sum()\n",
    "    # print(f\"kernel disk normalized: {kernel_disk}\")\n",
    "    # print(f\"kernel disk normalized sum: {kernel_disk.sum()}\")\n",
    "    return kernel_disk\n",
    "\n"
   ]
  },
  {
   "cell_type": "code",
   "execution_count": null,
   "id": "7265612f",
   "metadata": {},
   "outputs": [],
   "source": [
    "\n"
   ]
  },
  {
   "cell_type": "code",
   "execution_count": null,
   "id": "718634ab",
   "metadata": {},
   "outputs": [],
   "source": [
    "# Apply box_kernel(N) and disk_kernel(N) to loaded image using scipy.ndimage.convolve().\n",
    "mode = 'reflect'\n",
    "h1 = box_kernel(30) #applying the box kernel\n",
    "I2 = convolve(I1, h1, mode=mode)\n",
    "h2 = disk_kernel(30)\n",
    "I3 = convolve(I1, h2, mode=mode)\n",
    "# Ultimately, use N=15 but try smaller and larger values as well to see effects thereof.\n",
    "# Run print_imginfo() and show_imghist() on blurred image, say Iblur. Repeat for difference\n",
    "print_imginfo(I2)\n",
    "print(\"\")\n",
    "print_imginfo(I3)\n",
    "\n",
    "show_imghist(I1,I2,I3)\n",
    "# wrt original image, i.e., Iblur-I. Use appropriate (vmin,max) values."
   ]
  },
  {
   "cell_type": "code",
   "execution_count": null,
   "id": "7732aa89",
   "metadata": {},
   "outputs": [],
   "source": []
  }
 ],
 "metadata": {
  "kernelspec": {
   "display_name": "Python 3",
   "language": "python",
   "name": "python3"
  },
  "language_info": {
   "codemirror_mode": {
    "name": "ipython",
    "version": 3
   },
   "file_extension": ".py",
   "mimetype": "text/x-python",
   "name": "python",
   "nbconvert_exporter": "python",
   "pygments_lexer": "ipython3",
   "version": "3.10.6"
  },
  "vscode": {
   "interpreter": {
    "hash": "916dbcbb3f70747c44a77c7bcd40155683ae19c65e1c03b4aa3499c5328201f1"
   }
  }
 },
 "nbformat": 4,
 "nbformat_minor": 5
}
