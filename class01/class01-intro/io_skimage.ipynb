{
 "cells": [
  {
   "cell_type": "markdown",
   "id": "9cec58f0",
   "metadata": {},
   "source": [
    "# IO using Scikit-Image"
   ]
  },
  {
   "cell_type": "code",
   "execution_count": null,
   "id": "ca1e2d2e",
   "metadata": {},
   "outputs": [],
   "source": [
    "%matplotlib inline\n",
    "\n",
    "import numpy as np\n",
    "\n",
    "import matplotlib.image as img\n",
    "import matplotlib.pyplot as plt\n",
    "\n",
    "from skimage import io\n",
    "from skimage.util import img_as_float32 as img_as_float\n",
    "from skimage.util import img_as_ubyte"
   ]
  },
  {
   "cell_type": "code",
   "execution_count": null,
   "id": "bed5c4bd",
   "metadata": {},
   "outputs": [],
   "source": [
    "def print_imginfo(I):\n",
    "    print(type(I))\n",
    "    print(I.shape, I.dtype)\n",
    "    print('Data range:', np.min(I), 'to', np.max(I))"
   ]
  },
  {
   "cell_type": "code",
   "execution_count": null,
   "id": "1a933818",
   "metadata": {},
   "outputs": [],
   "source": [
    "I1 = io.imread(\"../../images/parrot.png\", as_gray=True)\n",
    "I1 = img_as_float(I1)\n",
    "print_imginfo(I1)\n",
    "plt.imshow(I1, cmap='gray')"
   ]
  },
  {
   "cell_type": "code",
   "execution_count": null,
   "id": "f65d96aa",
   "metadata": {},
   "outputs": [],
   "source": [
    "I2 = img_as_ubyte(I1)\n",
    "print_imginfo(I2)\n",
    "plt.imshow(I2, cmap='gray')"
   ]
  }
 ],
 "metadata": {
  "kernelspec": {
   "display_name": "Python 3 (ipykernel)",
   "language": "python",
   "name": "python3"
  },
  "language_info": {
   "codemirror_mode": {
    "name": "ipython",
    "version": 3
   },
   "file_extension": ".py",
   "mimetype": "text/x-python",
   "name": "python",
   "nbconvert_exporter": "python",
   "pygments_lexer": "ipython3",
   "version": "3.9.13"
  }
 },
 "nbformat": 4,
 "nbformat_minor": 5
}
