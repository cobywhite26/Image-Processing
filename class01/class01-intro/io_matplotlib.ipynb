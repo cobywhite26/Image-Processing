{
 "cells": [
  {
   "cell_type": "markdown",
   "id": "03466c78",
   "metadata": {},
   "source": [
    "## IO using Matplotlib"
   ]
  },
  {
   "cell_type": "code",
   "execution_count": null,
   "id": "4c1dd1df",
   "metadata": {},
   "outputs": [],
   "source": [
    "%matplotlib inline\n",
    "\n",
    "import numpy as np\n",
    "\n",
    "import matplotlib.image as img\n",
    "import matplotlib.pyplot as plt"
   ]
  },
  {
   "cell_type": "code",
   "execution_count": null,
   "id": "b0c9e087",
   "metadata": {},
   "outputs": [],
   "source": [
    "def print_imginfo(I):\n",
    "    print(type(I))\n",
    "    print(I.shape, I.dtype)\n",
    "    print('Data range:', np.min(I), 'to', np.max(I))"
   ]
  },
  {
   "cell_type": "code",
   "execution_count": null,
   "id": "eba906c3",
   "metadata": {
    "scrolled": false
   },
   "outputs": [],
   "source": [
    "I1 = img.imread(\"../../images/parrot.png\")\n",
    "print_imginfo(I1)\n",
    "plt.imshow(I1)"
   ]
  },
  {
   "cell_type": "code",
   "execution_count": null,
   "id": "1089bb36",
   "metadata": {
    "scrolled": false
   },
   "outputs": [],
   "source": [
    "I2 = np.sum(I1/3, axis=2, dtype=np.float32, keepdims=False)\n",
    "print_imginfo(I2)\n",
    "plt.imshow(I2, cmap='gray')"
   ]
  },
  {
   "cell_type": "code",
   "execution_count": null,
   "id": "3ae35021",
   "metadata": {},
   "outputs": [],
   "source": [
    "I2 = np.sum(255*I1/3, axis=2, dtype=np.uint8, keepdims=False)\n",
    "print_imginfo(I2)\n",
    "plt.imshow(I2, cmap='gray')"
   ]
  }
 ],
 "metadata": {
  "kernelspec": {
   "display_name": "Python 3 (ipykernel)",
   "language": "python",
   "name": "python3"
  },
  "language_info": {
   "codemirror_mode": {
    "name": "ipython",
    "version": 3
   },
   "file_extension": ".py",
   "mimetype": "text/x-python",
   "name": "python",
   "nbconvert_exporter": "python",
   "pygments_lexer": "ipython3",
   "version": "3.9.13"
  }
 },
 "nbformat": 4,
 "nbformat_minor": 5
}
